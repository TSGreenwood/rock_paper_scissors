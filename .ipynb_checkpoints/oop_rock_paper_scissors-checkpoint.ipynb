{
 "cells": [
  {
   "cell_type": "code",
   "execution_count": 19,
   "metadata": {},
   "outputs": [],
   "source": [
    "class Rock_paper_scissors:\n",
    "    def  __init__(self, name, beats, is_beaten):\n",
    "        self.name = name\n",
    "        self.beats = beats\n",
    "        self.is_beaten = is_beaten\n",
    "\n",
    "#These methods will only point to the OBJECTS printed, not the name of the object. \n",
    "#paper.say_name prints the instance of paper, not the string \"paper\"\n",
    "\n",
    "    def say_name():\n",
    "        print(self.name)\n",
    "    def say_beats():\n",
    "        print(self.beats)\n",
    "    def say_is_beaten():\n",
    "        print(self.is_beaten)"
   ]
  },
  {
   "cell_type": "code",
   "execution_count": 20,
   "metadata": {},
   "outputs": [],
   "source": [
    "rock = Rock_paper_scissors(\"rock\", \"scissors\", \"paper\")\n",
    "paper = Rock_paper_scissors(\"paper\", \"rock\", \"scissors\")\n",
    "scissors = Rock_paper_scissors(\"scissors\", \"paper\", \"rock\")"
   ]
  },
  {
   "cell_type": "code",
   "execution_count": 21,
   "metadata": {},
   "outputs": [
    {
     "data": {
      "text/plain": [
       "<bound method Rock_paper_scissors.say_name of <__main__.Rock_paper_scissors object at 0x1113d19e8>>"
      ]
     },
     "execution_count": 21,
     "metadata": {},
     "output_type": "execute_result"
    }
   ],
   "source": [
    "paper.say_name"
   ]
  },
  {
   "cell_type": "code",
   "execution_count": 3,
   "metadata": {},
   "outputs": [],
   "source": [
    "# def who_wins(hand1, hand2):\n",
    "#         if hand1.name == hand2.name:\n",
    "#             return \"you tied\"\n",
    "#         if hand1.beats == hand2.name:\n",
    "#             return hand1.name + \" beats \" + hand2.name\n",
    "#         if hand1.is_beaten == hand2.name:\n",
    "#             return hand2.name + \" beats \" + hand1.name\n",
    "#         else:\n",
    "#             return \"Please input rock, scissors, or paper for each parameter.\""
   ]
  },
  {
   "cell_type": "code",
   "execution_count": 4,
   "metadata": {},
   "outputs": [
    {
     "data": {
      "text/plain": [
       "'you tied'"
      ]
     },
     "execution_count": 4,
     "metadata": {},
     "output_type": "execute_result"
    }
   ],
   "source": [
    "# who_wins(paper, paper)"
   ]
  },
  {
   "cell_type": "code",
   "execution_count": 88,
   "metadata": {},
   "outputs": [],
   "source": [
    "class Pizza:\n",
    "    \n",
    "    toppings = \"Generic toppings\"\n",
    "    def __init__(self, toppings):\n",
    "        if type(toppings) != list:\n",
    "            raise TypeError(\"a LIST of toppings, please\")\n",
    "        else:\n",
    "    #make the toppings the list from the instance:\n",
    "            self.toppings = toppings\n",
    "     #if we want to make cheese the default first of the toppings list we can do:\n",
    "#             new_list = [\"cheese1\"]\n",
    "#             new_list.extend(toppings)\n",
    "#             self.toppings = new_list\n",
    "    #this will let us pass in an empty instance that will have self.pizza = [\"cheese\"]"
   ]
  },
  {
   "cell_type": "code",
   "execution_count": 89,
   "metadata": {},
   "outputs": [],
   "source": [
    "my_pizza = Pizza([\"food, apple, hummus, chickpeas\"])"
   ]
  },
  {
   "cell_type": "code",
   "execution_count": 90,
   "metadata": {},
   "outputs": [
    {
     "data": {
      "text/plain": [
       "['food, apple, hummus, chickpeas']"
      ]
     },
     "execution_count": 90,
     "metadata": {},
     "output_type": "execute_result"
    }
   ],
   "source": [
    "my_pizza.toppings"
   ]
  },
  {
   "cell_type": "code",
   "execution_count": 91,
   "metadata": {},
   "outputs": [
    {
     "ename": "TypeError",
     "evalue": "a LIST of toppings, please",
     "output_type": "error",
     "traceback": [
      "\u001b[0;31m---------------------------------------------------------------------------\u001b[0m",
      "\u001b[0;31mTypeError\u001b[0m                                 Traceback (most recent call last)",
      "\u001b[0;32m<ipython-input-91-0c62a40a4b94>\u001b[0m in \u001b[0;36m<module>\u001b[0;34m\u001b[0m\n\u001b[0;32m----> 1\u001b[0;31m \u001b[0myour_pizza\u001b[0m \u001b[0;34m=\u001b[0m \u001b[0mPizza\u001b[0m\u001b[0;34m(\u001b[0m\u001b[0;34m\"ouoih\"\u001b[0m\u001b[0;34m)\u001b[0m\u001b[0;34m\u001b[0m\u001b[0;34m\u001b[0m\u001b[0m\n\u001b[0m",
      "\u001b[0;32m<ipython-input-88-51de359f4d10>\u001b[0m in \u001b[0;36m__init__\u001b[0;34m(self, toppings)\u001b[0m\n\u001b[1;32m      4\u001b[0m     \u001b[0;32mdef\u001b[0m \u001b[0m__init__\u001b[0m\u001b[0;34m(\u001b[0m\u001b[0mself\u001b[0m\u001b[0;34m,\u001b[0m \u001b[0mtoppings\u001b[0m\u001b[0;34m)\u001b[0m\u001b[0;34m:\u001b[0m\u001b[0;34m\u001b[0m\u001b[0;34m\u001b[0m\u001b[0m\n\u001b[1;32m      5\u001b[0m         \u001b[0;32mif\u001b[0m \u001b[0mtype\u001b[0m\u001b[0;34m(\u001b[0m\u001b[0mtoppings\u001b[0m\u001b[0;34m)\u001b[0m \u001b[0;34m!=\u001b[0m \u001b[0mlist\u001b[0m\u001b[0;34m:\u001b[0m\u001b[0;34m\u001b[0m\u001b[0;34m\u001b[0m\u001b[0m\n\u001b[0;32m----> 6\u001b[0;31m             \u001b[0;32mraise\u001b[0m \u001b[0mTypeError\u001b[0m\u001b[0;34m(\u001b[0m\u001b[0;34m\"a LIST of toppings, please\"\u001b[0m\u001b[0;34m)\u001b[0m\u001b[0;34m\u001b[0m\u001b[0;34m\u001b[0m\u001b[0m\n\u001b[0m\u001b[1;32m      7\u001b[0m         \u001b[0;32melse\u001b[0m\u001b[0;34m:\u001b[0m\u001b[0;34m\u001b[0m\u001b[0;34m\u001b[0m\u001b[0m\n\u001b[1;32m      8\u001b[0m     \u001b[0;31m#make the toppings the list from the instance:\u001b[0m\u001b[0;34m\u001b[0m\u001b[0;34m\u001b[0m\u001b[0;34m\u001b[0m\u001b[0m\n",
      "\u001b[0;31mTypeError\u001b[0m: a LIST of toppings, please"
     ]
    }
   ],
   "source": [
    "# your_pizza = Pizza(\"ouoih\")\n",
    "#Check if we get the TypeError and message we specified"
   ]
  },
  {
   "cell_type": "markdown",
   "metadata": {},
   "source": [
    "April 11, 2019"
   ]
  },
  {
   "cell_type": "code",
   "execution_count": 47,
   "metadata": {},
   "outputs": [],
   "source": [
    "class Bird:\n",
    "    \"\"\"Avian creature beloved\"\"\"\n",
    "    def __init__(self, wingspan, lifespan, color):\n",
    "        \"\"\"creates new birds\"\"\"\n",
    "        self.wingspan = wingspan # in cm\n",
    "        self.lifespan = lifespan # in years\n",
    "        self.color = color #(r, g, b) 0-255 each\n",
    "        \n",
    "    def __repr__(self):\n",
    "        \"\"\"Returns a string representation of this bird\"\"\"\n",
    "        return (f\"Bird(wingspan={self.wingspan};\"\n",
    "                f\"lifespan={self.lifespan};\"\n",
    "                f\"color={self.color})\")\n",
    "    def __str__(self):\n",
    "        \"\"\"Returns a human-readable string representation of this bird\"\"\"\n",
    "        return (f\"Big-time singer!\"\n",
    "                f\" Wingspan: {self.wingspan};\"\n",
    "                f\" Lifespan: {self.lifespan};\"\n",
    "                f\" Color: {self.color})\")\n",
    "    \n",
    "    def __add__(self, other):\n",
    "        \"\"\"Returns the result of adding two birds\"\"\"\n",
    "        return Bird(\n",
    "            wingspan = (self.wingspan + other.wingspan)/2 \n",
    "            , lifespan = (self.lifespan + other.lifespan)/2 \n",
    "            , color = ((self.color[0] + other.color[0])/2\n",
    "            ,     (self.color[1] + other.color[1])/2\n",
    "            ,    (self.color[2] + other.color[2])/2)\n",
    "        )"
   ]
  },
  {
   "cell_type": "code",
   "execution_count": 48,
   "metadata": {},
   "outputs": [],
   "source": [
    "robin = Bird(wingspan=(8.3*2.54), lifespan=1.1, color=(255,0,0))"
   ]
  },
  {
   "cell_type": "code",
   "execution_count": 49,
   "metadata": {},
   "outputs": [
    {
     "data": {
      "text/plain": [
       "Bird(wingspan=21.082;lifespan=1.1;color=(255, 0, 0))"
      ]
     },
     "execution_count": 49,
     "metadata": {},
     "output_type": "execute_result"
    }
   ],
   "source": [
    "robin"
   ]
  },
  {
   "cell_type": "code",
   "execution_count": 50,
   "metadata": {},
   "outputs": [
    {
     "name": "stdout",
     "output_type": "stream",
     "text": [
      "Big-time singer! Wingspan: 21.082; Lifespan: 1.1; Color: (255, 0, 0))\n"
     ]
    }
   ],
   "source": [
    "print(robin)"
   ]
  },
  {
   "cell_type": "code",
   "execution_count": 51,
   "metadata": {},
   "outputs": [],
   "source": [
    "peregrine_falcon = Bird(2.4*12*2.54, 1.1, (255, 1, 2))"
   ]
  },
  {
   "cell_type": "code",
   "execution_count": 52,
   "metadata": {},
   "outputs": [
    {
     "name": "stdout",
     "output_type": "stream",
     "text": [
      "Big-time singer! Wingspan: 73.15199999999999; Lifespan: 1.1; Color: (255, 1, 2))\n"
     ]
    }
   ],
   "source": [
    "print(peregrine_falcon)"
   ]
  },
  {
   "cell_type": "code",
   "execution_count": 53,
   "metadata": {},
   "outputs": [
    {
     "data": {
      "text/plain": [
       "Bird(wingspan=47.11699999999999;lifespan=1.1;color=(255.0, 0.5, 1.0))"
      ]
     },
     "execution_count": 53,
     "metadata": {},
     "output_type": "execute_result"
    }
   ],
   "source": [
    "robin + peregrine_falcon"
   ]
  },
  {
   "cell_type": "code",
   "execution_count": 54,
   "metadata": {},
   "outputs": [],
   "source": [
    "# class Flock(list):\n",
    "#     pass"
   ]
  },
  {
   "cell_type": "code",
   "execution_count": 65,
   "metadata": {},
   "outputs": [],
   "source": [
    "class Flock(list):\n",
    "    def __init__(self, seq):\n",
    "        \"\"\"Create a thing!\"\"\"\n",
    "        print(\"Here are some birds!\")\n",
    "        super().__init__(seq)\n",
    "        \n",
    "    def __str__(self):\n",
    "        return \"A flock of these birds: \" + super().__str__()"
   ]
  },
  {
   "cell_type": "code",
   "execution_count": 66,
   "metadata": {},
   "outputs": [
    {
     "name": "stdout",
     "output_type": "stream",
     "text": [
      "Here are some birds!\n"
     ]
    }
   ],
   "source": [
    "flock = Flock((robin, peregrine_falcon, robin + peregrine_falcon))"
   ]
  },
  {
   "cell_type": "code",
   "execution_count": 67,
   "metadata": {},
   "outputs": [
    {
     "data": {
      "text/plain": [
       "[Bird(wingspan=21.082;lifespan=1.1;color=(255, 0, 0)),\n",
       " Bird(wingspan=73.15199999999999;lifespan=1.1;color=(255, 1, 2)),\n",
       " Bird(wingspan=47.11699999999999;lifespan=1.1;color=(255.0, 0.5, 1.0))]"
      ]
     },
     "execution_count": 67,
     "metadata": {},
     "output_type": "execute_result"
    }
   ],
   "source": [
    "flock"
   ]
  },
  {
   "cell_type": "code",
   "execution_count": 59,
   "metadata": {},
   "outputs": [],
   "source": [
    "batman = Bird(34, 4.07, (191, 0, 63))"
   ]
  },
  {
   "cell_type": "code",
   "execution_count": 60,
   "metadata": {},
   "outputs": [
    {
     "data": {
      "text/plain": [
       "Bird(wingspan=34;lifespan=4.07;color=(191, 0, 63))"
      ]
     },
     "execution_count": 60,
     "metadata": {},
     "output_type": "execute_result"
    }
   ],
   "source": [
    "batman"
   ]
  },
  {
   "cell_type": "code",
   "execution_count": null,
   "metadata": {},
   "outputs": [],
   "source": []
  }
 ],
 "metadata": {
  "kernelspec": {
   "display_name": "Python [conda env:root]",
   "language": "python",
   "name": "conda-root-py"
  },
  "language_info": {
   "codemirror_mode": {
    "name": "ipython",
    "version": 3
   },
   "file_extension": ".py",
   "mimetype": "text/x-python",
   "name": "python",
   "nbconvert_exporter": "python",
   "pygments_lexer": "ipython3",
   "version": "3.7.1"
  }
 },
 "nbformat": 4,
 "nbformat_minor": 2
}
