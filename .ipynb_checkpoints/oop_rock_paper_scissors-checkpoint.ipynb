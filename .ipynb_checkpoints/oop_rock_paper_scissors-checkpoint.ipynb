{
 "cells": [
  {
   "cell_type": "code",
   "execution_count": 1,
   "metadata": {},
   "outputs": [],
   "source": [
    "class Rock_paper_scissors():\n",
    "   def  __init__(self, name, beats, is_beaten):\n",
    "        self.name = name\n",
    "        self.beats = beats\n",
    "        self.is_beaten = is_beaten"
   ]
  },
  {
   "cell_type": "code",
   "execution_count": 2,
   "metadata": {},
   "outputs": [],
   "source": [
    "rock = Rock_paper_scissors(\"rock\", \"scissors\", \"paper\")\n",
    "paper = Rock_paper_scissors(\"paper\", \"rock\", \"scissors\")\n",
    "scissors = Rock_paper_scissors(\"scissors\", \"paper\", \"rock\")"
   ]
  },
  {
   "cell_type": "code",
   "execution_count": 3,
   "metadata": {},
   "outputs": [],
   "source": [
    "def who_wins(hand1, hand2):\n",
    "        if hand1.name == hand2.name:\n",
    "            return \"you tied\"\n",
    "        if hand1.beats == hand2.name:\n",
    "            return hand1.name + \" beats \" + hand2.name\n",
    "        if hand1.is_beaten == hand2.name:\n",
    "            return hand2.name + \" beats \" + hand1.name\n",
    "        else:\n",
    "            return \"Please input rock, scissors, or paper for each parameter.\""
   ]
  },
  {
   "cell_type": "code",
   "execution_count": 4,
   "metadata": {},
   "outputs": [
    {
     "data": {
      "text/plain": [
       "'you tied'"
      ]
     },
     "execution_count": 4,
     "metadata": {},
     "output_type": "execute_result"
    }
   ],
   "source": [
    "who_wins(paper, paper)"
   ]
  },
  {
   "cell_type": "code",
   "execution_count": null,
   "metadata": {},
   "outputs": [],
   "source": []
  }
 ],
 "metadata": {
  "kernelspec": {
   "display_name": "Python [conda env:root]",
   "language": "python",
   "name": "conda-root-py"
  },
  "language_info": {
   "codemirror_mode": {
    "name": "ipython",
    "version": 3
   },
   "file_extension": ".py",
   "mimetype": "text/x-python",
   "name": "python",
   "nbconvert_exporter": "python",
   "pygments_lexer": "ipython3",
   "version": "3.7.1"
  }
 },
 "nbformat": 4,
 "nbformat_minor": 2
}
